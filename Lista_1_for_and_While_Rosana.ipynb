{
  "cells": [
    {
      "cell_type": "markdown",
      "metadata": {
        "id": "view-in-github",
        "colab_type": "text"
      },
      "source": [
        "<a href=\"https://colab.research.google.com/github/RosanaXavierGranato/Projeto1_Front-end_infnet/blob/main/Lista_1_for_and_While_Rosana.ipynb\" target=\"_parent\"><img src=\"https://colab.research.google.com/assets/colab-badge.svg\" alt=\"Open In Colab\"/></a>"
      ]
    },
    {
      "cell_type": "code",
      "execution_count": null,
      "metadata": {
        "id": "OMWgkOhDiK-g"
      },
      "outputs": [],
      "source": []
    },
    {
      "cell_type": "markdown",
      "metadata": {
        "id": "m8y3muPMiMC8"
      },
      "source": [
        "Exercícios (FOR, IF, WHILE,DICTIONARY)\n",
        "1)Passe por todos os números até 99 (começando em 1). Imprima 'fizz' para cada número que é divisível por 7, imprima 'buzz' para cada número divisível por 5 e imprima 'fizzbuzz' para cada número divisível por 7 e 5! Se o número não for divisível por 7 ou 5, imprima um travessão (‘-‘)!\n",
        "\n",
        "Para descubrir se um número x é divisível por y use operador (%):\n",
        "\n",
        "(x % y) == 0  retorna True se x é divísel por y, False se não for.\n",
        "Dica : use FOR , IF, ELIF, ELSE"
      ]
    },
    {
      "cell_type": "code",
      "execution_count": null,
      "metadata": {
        "colab": {
          "base_uri": "https://localhost:8080/"
        },
        "id": "1NAx46v5iO1L",
        "outputId": "b98cec82-5d69-49af-c1f6-b980df1f5eee"
      },
      "outputs": [
        {
          "output_type": "execute_result",
          "data": {
            "text/plain": [
              "[1,\n",
              " 2,\n",
              " 3,\n",
              " 4,\n",
              " 5,\n",
              " 6,\n",
              " 7,\n",
              " 8,\n",
              " 9,\n",
              " 10,\n",
              " 11,\n",
              " 12,\n",
              " 13,\n",
              " 14,\n",
              " 15,\n",
              " 16,\n",
              " 17,\n",
              " 18,\n",
              " 19,\n",
              " 20,\n",
              " 21,\n",
              " 22,\n",
              " 23,\n",
              " 24,\n",
              " 25,\n",
              " 26,\n",
              " 27,\n",
              " 28,\n",
              " 29,\n",
              " 30,\n",
              " 31,\n",
              " 32,\n",
              " 33,\n",
              " 34,\n",
              " 35,\n",
              " 36,\n",
              " 37,\n",
              " 38,\n",
              " 39,\n",
              " 40,\n",
              " 41,\n",
              " 42,\n",
              " 43,\n",
              " 44,\n",
              " 45,\n",
              " 46,\n",
              " 47,\n",
              " 48,\n",
              " 49,\n",
              " 50,\n",
              " 51,\n",
              " 52,\n",
              " 53,\n",
              " 54,\n",
              " 55,\n",
              " 56,\n",
              " 57,\n",
              " 58,\n",
              " 59,\n",
              " 60,\n",
              " 61,\n",
              " 62,\n",
              " 63,\n",
              " 64,\n",
              " 65,\n",
              " 66,\n",
              " 67,\n",
              " 68,\n",
              " 69,\n",
              " 70,\n",
              " 71,\n",
              " 72,\n",
              " 73,\n",
              " 74,\n",
              " 75,\n",
              " 76,\n",
              " 77,\n",
              " 78,\n",
              " 79,\n",
              " 80,\n",
              " 81,\n",
              " 82,\n",
              " 83,\n",
              " 84,\n",
              " 85,\n",
              " 86,\n",
              " 87,\n",
              " 88,\n",
              " 89,\n",
              " 90,\n",
              " 91,\n",
              " 92,\n",
              " 93,\n",
              " 94,\n",
              " 95,\n",
              " 96,\n",
              " 97,\n",
              " 98]"
            ]
          },
          "metadata": {},
          "execution_count": 2
        }
      ],
      "source": [
        "list(range(1,99,1))"
      ]
    },
    {
      "cell_type": "code",
      "execution_count": null,
      "metadata": {
        "colab": {
          "base_uri": "https://localhost:8080/"
        },
        "id": "p7AZOrF9in1a",
        "outputId": "cfe10f7a-6e6b-4b61-edf5-fc9eab8efe11"
      },
      "outputs": [
        {
          "output_type": "stream",
          "name": "stdout",
          "text": [
            "fizzbuzz      0\n",
            "-            1\n",
            "-            2\n",
            "-            3\n",
            "-            4\n",
            "buzz         5\n",
            "-            6\n",
            "fizz         7\n",
            "-            8\n",
            "-            9\n",
            "buzz         10\n",
            "-            11\n",
            "-            12\n",
            "-            13\n",
            "fizz         14\n",
            "buzz         15\n",
            "-            16\n",
            "-            17\n",
            "-            18\n",
            "-            19\n",
            "buzz         20\n",
            "fizz         21\n",
            "-            22\n",
            "-            23\n",
            "-            24\n",
            "buzz         25\n",
            "-            26\n",
            "-            27\n",
            "fizz         28\n",
            "-            29\n",
            "buzz         30\n",
            "-            31\n",
            "-            32\n",
            "-            33\n",
            "-            34\n",
            "fizzbuzz      35\n",
            "-            36\n",
            "-            37\n",
            "-            38\n",
            "-            39\n",
            "buzz         40\n",
            "-            41\n",
            "fizz         42\n",
            "-            43\n",
            "-            44\n",
            "buzz         45\n",
            "-            46\n",
            "-            47\n",
            "-            48\n",
            "fizz         49\n",
            "buzz         50\n",
            "-            51\n",
            "-            52\n",
            "-            53\n",
            "-            54\n",
            "buzz         55\n",
            "fizz         56\n",
            "-            57\n",
            "-            58\n",
            "-            59\n",
            "buzz         60\n",
            "-            61\n",
            "-            62\n",
            "fizz         63\n",
            "-            64\n",
            "buzz         65\n",
            "-            66\n",
            "-            67\n",
            "-            68\n",
            "-            69\n",
            "fizzbuzz      70\n",
            "-            71\n",
            "-            72\n",
            "-            73\n",
            "-            74\n",
            "buzz         75\n",
            "-            76\n",
            "fizz         77\n",
            "-            78\n",
            "-            79\n",
            "buzz         80\n",
            "-            81\n",
            "-            82\n",
            "-            83\n",
            "fizz         84\n",
            "buzz         85\n",
            "-            86\n",
            "-            87\n",
            "-            88\n",
            "-            89\n",
            "buzz         90\n",
            "fizz         91\n",
            "-            92\n",
            "-            93\n",
            "-            94\n",
            "buzz         95\n",
            "-            96\n",
            "-            97\n",
            "fizz         98\n",
            "-            99\n"
          ]
        }
      ],
      "source": [
        "for j in range(0,100):\n",
        "    if j%7==0 and j%5==0:\n",
        "      print('fizzbuzz      {}'.\n",
        "format(j))\n",
        "    elif j%7==0:\n",
        "      print('fizz         {}'.format(j))\n",
        "    elif j%5==0:\n",
        "      print('buzz         {}'.format(j))\n",
        "    else:\n",
        "      print('-            {}'.format(j))"
      ]
    },
    {
      "cell_type": "markdown",
      "metadata": {
        "id": "uSejvFqNpCvs"
      },
      "source": [
        "2) Os filmes/séries podem ser classificados conforme o seu genero (ação,comédia, drama, terror etc). Considerando as classificações abaixo:\n",
        "\n",
        "a) Ação = Jumanji, Projeto Gemini,The old guard,WandaVision.\n",
        "\n",
        "b) Comédia = Jumanji,How I Met Your Mother,Friends, Amigos para sempre.\n",
        "\n",
        "c) Drama = Amigos para sempre, After,Game of Thrones, WandaVision.\n",
        "\n",
        "Tarefas:\n",
        "\n",
        "2.1 - Cria uma lista de listas para representar cada um dos conjuntos acima.\n",
        "\n",
        "2.2 - Usando a lista criada em 2.1, escreva um programa que \"print\" na tela a quantidade de caracteres de cada título."
      ]
    },
    {
      "cell_type": "code",
      "execution_count": null,
      "metadata": {
        "colab": {
          "base_uri": "https://localhost:8080/"
        },
        "id": "l8nb4TkSp8qJ",
        "outputId": "33cd4804-ba52-4840-ee60-68c4d3e598de"
      },
      "outputs": [
        {
          "output_type": "stream",
          "name": "stdout",
          "text": [
            "\n",
            "['Jumanji', 'Projeto Gemini', 'The old guard', 'WandaVision']\n",
            "['Jumanji', 'How I Met Your Mother', 'Friends', 'Amigos para sempre']\n",
            "['Amigos para sempre', 'After', 'Game of Thrones', 'WandaVision']\n",
            "\n"
          ]
        }
      ],
      "source": [
        "lista_acao = ['Jumanji', 'Projeto Gemini', 'The old guard', 'WandaVision']\n",
        "lista_comedia = ['Jumanji','How I Met Your Mother', 'Friends', 'Amigos para sempre']\n",
        "lista_drama = ['Amigos para sempre', 'After', 'Game of Thrones', 'WandaVision']\n",
        "print(f'''\n",
        "{lista_acao}\n",
        "{lista_comedia}\n",
        "{lista_drama}\n",
        "''')"
      ]
    },
    {
      "cell_type": "code",
      "execution_count": null,
      "metadata": {
        "colab": {
          "base_uri": "https://localhost:8080/"
        },
        "id": "KzJTbpTKtIHw",
        "outputId": "85e790e2-70d1-4be6-dfe8-4d9d9375662a"
      },
      "outputs": [
        {
          "output_type": "stream",
          "name": "stdout",
          "text": [
            "O filme How I Met Your Mother tem 21 caracteres\n",
            "O filme WandaVision tem 11 caracteres\n",
            "O filme Jumanji tem 7 caracteres\n",
            "O filme The old guard tem 13 caracteres\n",
            "O filme Amigos para sempre tem 18 caracteres\n",
            "O filme After tem 5 caracteres\n",
            "O filme Friends tem 7 caracteres\n",
            "O filme Projeto Gemini tem 14 caracteres\n",
            "O filme Game of Thrones tem 15 caracteres\n"
          ]
        }
      ],
      "source": [
        "lista_geral = list(set(lista_acao + lista_comedia + lista_drama))\n",
        "primeiro = lista_geral[0]\n",
        "segundo = lista_geral[1]\n",
        "terceiro = lista_geral[2]\n",
        "quarto = lista_geral[3]\n",
        "quinto = lista_geral[4]\n",
        "sexto = lista_geral[5]\n",
        "setimo = lista_geral[6]\n",
        "oitavo = lista_geral[7]\n",
        "nono = lista_geral[8]\n",
        "\n",
        "print('O filme {}'.format(primeiro), 'tem {}'.format(len(primeiro)), 'caracteres'  )\n",
        "print('O filme {}'.format(segundo), 'tem {}'.format(len(segundo)), 'caracteres'  )\n",
        "print('O filme {}'.format(terceiro), 'tem {}'.format(len(terceiro)), 'caracteres'  )\n",
        "print('O filme {}'.format(quarto), 'tem {}'.format(len(quarto)), 'caracteres'  )\n",
        "print('O filme {}'.format(quinto), 'tem {}'.format(len(quinto)), 'caracteres'  )\n",
        "print('O filme {}'.format(sexto), 'tem {}'.format(len(sexto)), 'caracteres'  )\n",
        "print('O filme {}'.format(setimo), 'tem {}'.format(len(setimo)), 'caracteres'  )\n",
        "print('O filme {}'.format(oitavo), 'tem {}'.format(len(oitavo)), 'caracteres'  )\n",
        "print('O filme {}'.format(nono), 'tem {}'.format(len(nono)), 'caracteres'  )"
      ]
    },
    {
      "cell_type": "code",
      "execution_count": null,
      "metadata": {
        "id": "XLBo6cTposBT"
      },
      "outputs": [],
      "source": [
        "lista_geral = list(set(lista_acao + lista_comedia + lista_drama))\n",
        "caracteres = {}\n",
        "\n",
        "for i in lista_geral:\n",
        "    caracteres[i]=len(i)\n",
        "for i in caracteres:\n",
        "    print(f\"'{i}' tem '{caracteres[i]}' caracteres\")"
      ]
    },
    {
      "cell_type": "markdown",
      "metadata": {
        "id": "1h9h35VwajlC"
      },
      "source": [
        "3) Escreva um programa que calcule o fatorial de um número (entre com o número usando input). Sabendo que:\n",
        "\n",
        "a) n! = n(n-1)(n-2)...1\n",
        "\n",
        "b) 1! = 1\n",
        "\n",
        "c) 0! = 1\n",
        "\n",
        "Dica: Use While"
      ]
    },
    {
      "cell_type": "code",
      "execution_count": 1,
      "metadata": {
        "id": "KJKFfCuCE-OA",
        "colab": {
          "base_uri": "https://localhost:8080/"
        },
        "outputId": "e7bb90de-eb16-4639-9954-63b296d0c6ea"
      },
      "outputs": [
        {
          "output_type": "stream",
          "name": "stdout",
          "text": [
            "digite o número:6\n",
            "O fatorial do número é 720\n"
          ]
        }
      ],
      "source": [
        "numero_n = int(input(\"digite o número:\"))\n",
        "\n",
        "#após inserção do número, o programa deve usar o para calcular o fatorial considerando que enquanto o número não chegar a 1 ele não para de rodar\n",
        "\n",
        "fatorial = 1\n",
        "while (numero_n>= 1):\n",
        "  fatorial = fatorial*numero_n\n",
        "  numero_n = numero_n - 1\n",
        "\n",
        "print('O fatorial do número é {}'.format(fatorial))\n",
        "\n",
        "\n",
        "\n",
        "\n"
      ]
    },
    {
      "cell_type": "markdown",
      "metadata": {
        "id": "tOwJ3ALgLFXo"
      },
      "source": [
        "4) Desafio\n",
        "\n",
        "Considerando o problema 2):\n",
        "\n",
        "4.1) Crie um dicionário no qual cada chave representa o genero do filme;\n",
        "\n",
        "4.2) Em um sistema de recomendação baseado em conteúdos, deseja-se saber as classificações (generos) de cada filme. Faça um programa que usando o dicionário criado em 4.1, retorne os generos associados a cada filme. (Dica: use um outro dicionário).\n",
        "\n",
        "[ ]\n"
      ]
    },
    {
      "cell_type": "markdown",
      "metadata": {
        "id": "rdrxYzfEE-zk"
      },
      "source": []
    },
    {
      "cell_type": "code",
      "execution_count": null,
      "metadata": {
        "id": "j-H3Pwi1L_pC",
        "colab": {
          "base_uri": "https://localhost:8080/"
        },
        "outputId": "c357760b-e208-4021-b8ef-b8261d6c44d1"
      },
      "outputs": [
        {
          "output_type": "stream",
          "name": "stdout",
          "text": [
            "{'filmes_acao': ['Jumanji', 'Projeto Gemini', 'The old guard', 'WandaVision'], 'filmes_comedia': ['Jumanji', 'How I Met Your Mother', 'Friends', 'Amigos para sempre'], 'filmes_drama': ['Amigos para sempre', 'After', 'Game of Thrones', 'WandaVision']}\n"
          ]
        }
      ],
      "source": [
        "Genero_filme = { \"filmes_acao\": lista_acao , \"filmes_comedia\": lista_comedia , \"filmes_drama\": lista_drama }\n",
        "print(Genero_filme)"
      ]
    },
    {
      "cell_type": "code",
      "execution_count": null,
      "metadata": {
        "id": "crq-SRjs7QGz",
        "colab": {
          "base_uri": "https://localhost:8080/"
        },
        "outputId": "d4401803-0fd1-4cb4-fa33-4fb6cf694c0a"
      },
      "outputs": [
        {
          "output_type": "stream",
          "name": "stdout",
          "text": [
            "filmes_acao\n",
            "filmes_comedia\n",
            "filmes_drama\n"
          ]
        }
      ],
      "source": [
        "for key in Genero_filme:\n",
        "    print(key)"
      ]
    },
    {
      "cell_type": "code",
      "execution_count": null,
      "metadata": {
        "id": "vSu8fqbAKAqS",
        "colab": {
          "base_uri": "https://localhost:8080/"
        },
        "outputId": "81e70dbc-ea61-4622-8ea8-9746d851f307"
      },
      "outputs": [
        {
          "output_type": "execute_result",
          "data": {
            "text/plain": [
              "{'How I Met Your Mother': ['comedia'],\n",
              " 'WandaVision': ['acao', 'drama'],\n",
              " 'Jumanji': ['acao', 'comedia'],\n",
              " 'The old guard': ['acao'],\n",
              " 'Amigos para sempre': ['comedia', 'drama'],\n",
              " 'After': ['drama'],\n",
              " 'Friends': ['comedia'],\n",
              " 'Projeto Gemini': ['acao'],\n",
              " 'Game of Thrones': ['drama']}"
            ]
          },
          "metadata": {},
          "execution_count": 11
        }
      ],
      "source": [
        "Tiposdefilmes = {}\n",
        "\n",
        "for i in lista_geral:\n",
        "  Tiposdefilmes[i] = []\n",
        "  if i in lista_acao:\n",
        "    Tiposdefilmes[i].append(\"acao\")\n",
        "  if i in lista_comedia:\n",
        "    Tiposdefilmes[i].append(\"comedia\")\n",
        "  if i in lista_drama:\n",
        "    Tiposdefilmes[i].append(\"drama\")\n",
        "\n",
        "Tiposdefilmes"
      ]
    },
    {
      "cell_type": "markdown",
      "metadata": {
        "id": "k9zX8vxLbOgW"
      },
      "source": []
    }
  ],
  "metadata": {
    "colab": {
      "provenance": [],
      "authorship_tag": "ABX9TyNbgWN1X229cJ1/RnQeH25p",
      "include_colab_link": true
    },
    "kernelspec": {
      "display_name": "Python 3",
      "name": "python3"
    },
    "language_info": {
      "name": "python"
    }
  },
  "nbformat": 4,
  "nbformat_minor": 0
}